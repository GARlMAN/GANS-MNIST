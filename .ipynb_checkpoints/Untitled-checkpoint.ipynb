{
 "cells": [
  {
   "cell_type": "code",
   "execution_count": 1,
   "id": "1990415c",
   "metadata": {},
   "outputs": [],
   "source": [
    "import pandas as pd\n",
    "import numpy as np\n",
    "import math\n",
    "import matplotlib.pyplot as plt"
   ]
  },
  {
   "cell_type": "code",
   "execution_count": 2,
   "id": "a6df301a",
   "metadata": {},
   "outputs": [],
   "source": [
    "import torch\n",
    "import torch.nn as nn\n",
    "import torchvision\n",
    "from torch.utils.data import Dataset, DataLoader\n",
    "from torchvision.datasets import MNIST\n",
    "import torch.optim as optim\n",
    "from torch.nn.utils.rnn import pad_sequence\n",
    "from torchvision import transforms"
   ]
  },
  {
   "cell_type": "code",
   "execution_count": 3,
   "id": "4d318af3",
   "metadata": {},
   "outputs": [],
   "source": [
    "from sklearn.model_selection import train_test_split\n"
   ]
  },
  {
   "cell_type": "code",
   "execution_count": 4,
   "id": "1e07f0d7",
   "metadata": {},
   "outputs": [
    {
     "data": {
      "text/plain": [
       "'1.11.0'"
      ]
     },
     "execution_count": 4,
     "metadata": {},
     "output_type": "execute_result"
    }
   ],
   "source": [
    "torch.__version__"
   ]
  },
  {
   "cell_type": "code",
   "execution_count": 5,
   "id": "ca5f9ab2",
   "metadata": {},
   "outputs": [],
   "source": [
    "torch.cuda.set_per_process_memory_fraction(0.33, 0)\n",
    "device = torch.device(\"cuda\" if torch.cuda.is_available() else \"cpu\")"
   ]
  },
  {
   "cell_type": "code",
   "execution_count": null,
   "id": "92368485",
   "metadata": {},
   "outputs": [],
   "source": []
  },
  {
   "cell_type": "code",
   "execution_count": null,
   "id": "0a26eff3",
   "metadata": {},
   "outputs": [],
   "source": []
  },
  {
   "cell_type": "code",
   "execution_count": null,
   "id": "23cad2a2",
   "metadata": {},
   "outputs": [],
   "source": []
  },
  {
   "cell_type": "code",
   "execution_count": null,
   "id": "cbdfe386",
   "metadata": {},
   "outputs": [],
   "source": []
  },
  {
   "cell_type": "code",
   "execution_count": 6,
   "id": "4d49065f",
   "metadata": {},
   "outputs": [],
   "source": [
    "def get_generator_block(input_dim, output_dim):\n",
    "    return nn.Sequential(\n",
    "        nn.Linear(input_dim, output_dim),\n",
    "        nn.BatchNorm1d(output_dim),\n",
    "        nn.ReLU(inplace=True),\n",
    "    )\n",
    "class Generator(nn.Module):\n",
    "    def __init__(self, z_dim=10, im_dim=784, hidden_dim=128):\n",
    "        super(Generator, self).__init__()\n",
    "        self.z_dim = z_dim\n",
    "        self.gen = nn.Sequential(\n",
    "            get_generator_block(z_dim, hidden_dim),\n",
    "            get_generator_block(hidden_dim, hidden_dim * 2),\n",
    "            get_generator_block(hidden_dim * 2, hidden_dim * 4),\n",
    "            get_generator_block(hidden_dim * 4, hidden_dim * 8),\n",
    "            nn.Linear(hidden_dim*8, im_dim),\n",
    "            nn.Sigmoid())\n",
    "\n",
    "\n",
    "        \n",
    "    def forward(self, noise):\n",
    "        x = noise\n",
    "        return self.gen(x)\n",
    "    def get_gen(self):\n",
    "        '''\n",
    "        Returns:\n",
    "            the sequential model\n",
    "        '''\n",
    "        return self.gen"
   ]
  },
  {
   "cell_type": "code",
   "execution_count": 7,
   "id": "8b798acf",
   "metadata": {},
   "outputs": [],
   "source": [
    "def get_noise(n_samples, z_dim, device='cuda'):\n",
    "    return torch.randn(n_samples, z_dim, device = device)"
   ]
  },
  {
   "cell_type": "code",
   "execution_count": 8,
   "id": "0a793e6e",
   "metadata": {},
   "outputs": [],
   "source": [
    "def get_discriminator_block(input_dim, output_dim):\n",
    "    return nn.Sequential(\n",
    "        nn.Linear(input_dim, output_dim),\n",
    "        nn.LeakyReLU(0.2, inplace= True),\n",
    "    )\n",
    "\n",
    "class Discriminator(nn.Module):\n",
    "    def __init__(self, im_dim=784, hidden_dim=128):\n",
    "        super(Discriminator, self).__init__()\n",
    "        self.disc = nn.Sequential(\n",
    "            get_discriminator_block(im_dim, hidden_dim * 4),\n",
    "            get_discriminator_block(hidden_dim * 4, hidden_dim * 2),\n",
    "            get_discriminator_block(hidden_dim * 2, hidden_dim),\n",
    "            nn.Linear(hidden_dim, 1)\n",
    "        )\n",
    "        \n",
    "    def forward(self, image):\n",
    "        x = image\n",
    "        return  self.disc(image)\n",
    "    def get_disc(self):\n",
    "        '''\n",
    "        Returns:\n",
    "            the sequential model\n",
    "        '''\n",
    "        return self.disc\n"
   ]
  },
  {
   "cell_type": "code",
   "execution_count": 9,
   "id": "8b28852f",
   "metadata": {},
   "outputs": [],
   "source": [
    "n_epochs = 100\n",
    "z_dim = 784\n",
    "display_step = 50\n",
    "batch_size = 32\n",
    "lr = 0.00001\n",
    "c_lambda = 10\n",
    "crit_repeats = 5\n",
    "device = 'cuda'"
   ]
  },
  {
   "cell_type": "code",
   "execution_count": 10,
   "id": "bc8d7629",
   "metadata": {},
   "outputs": [],
   "source": [
    "transform = transforms.Compose([\n",
    "    transforms.ToTensor(),\n",
    "    transforms.Normalize((0.5,), (0.5,)),\n",
    "])\n",
    "\n",
    "dataset = DataLoader(\n",
    "    MNIST('.', download=False, transform=transform),\n",
    "    batch_size=batch_size,\n",
    "    shuffle=True)"
   ]
  },
  {
   "cell_type": "code",
   "execution_count": 11,
   "id": "82ce0181",
   "metadata": {},
   "outputs": [
    {
     "data": {
      "image/png": "[encoded data removed]",
      "text/plain": [
       "<Figure size 432x288 with 1 Axes>"
      ]
     },
     "metadata": {
      "needs_background": "light"
     },
     "output_type": "display_data"
    }
   ],
   "source": [
    "import time\n",
    "for i in range(1):\n",
    "    plt.ion()\n",
    "    plt.figure()\n",
    "    plt.imshow(iter(dataset).next()[0][2][0])\n",
    "    plt.show()"
   ]
  },
  {
   "cell_type": "code",
   "execution_count": 12,
   "id": "20e44460",
   "metadata": {},
   "outputs": [],
   "source": [
    "gen = Generator(z_dim).to(device)\n",
    "gen_opt = torch.optim.Adam(gen.parameters(), lr=lr)\n",
    "disc = Discriminator().to(device) \n",
    "crit_opt = torch.optim.Adam(disc.parameters(), lr=lr)"
   ]
  },
  {
   "cell_type": "code",
   "execution_count": 13,
   "id": "92d59a27",
   "metadata": {},
   "outputs": [],
   "source": [
    "criterion = nn.BCEWithLogitsLoss()"
   ]
  },
  {
   "cell_type": "code",
   "execution_count": 23,
   "id": "1c63eeaf",
   "metadata": {},
   "outputs": [],
   "source": [
    "def critic_loss(gen, disc, criterion, real, num_images, z_dim, device):\n",
    "    fake_noise = get_noise(num_images, z_dim, device=device)\n",
    "    fake = gen(fake_noise)\n",
    "    disc_fake_pred = disc(fake.detach())\n",
    "    disc_fake_loss = criterion(disc_fake_pred, torch.zeros_like(disc_fake_pred))\n",
    "    \n",
    "    disc_real_pred = disc(real)\n",
    "    disc_real_loss = criterion(disc_real_pred, torch.ones_like(disc_real_pred))\n",
    "    loss = (disc_fake_loss + disc_real_loss) / 2\n",
    "    return loss"
   ]
  },
  {
   "cell_type": "code",
   "execution_count": 28,
   "id": "49bceec7",
   "metadata": {},
   "outputs": [],
   "source": [
    "def get_gen_loss(gen, disc, criterion, num_images, z_dim, device):\n",
    "    z_noise = get_noise(num_images, z_dim, device)\n",
    "    fake_noise = gen(z_noise)\n",
    "    fake_noise_prediction = disc(fake_noise)\n",
    "    loss = criterion(fake_noise_prediction, torch.ones_like(fake_noise_prediction))\n",
    "    return loss"
   ]
  },
  {
   "cell_type": "code",
   "execution_count": null,
   "id": "65d1c181",
   "metadata": {},
   "outputs": [],
   "source": []
  },
  {
   "cell_type": "code",
   "execution_count": 30,
   "id": "8a008a74",
   "metadata": {},
   "outputs": [],
   "source": [
    "from tqdm import tqdm"
   ]
  },
  {
   "cell_type": "code",
   "execution_count": 31,
   "id": "9f33e510",
   "metadata": {},
   "outputs": [],
   "source": [
    "def Train(gen, disc, iterator, disc_optimizer, gen_optimizer, criterion):\n",
    "    disc.train()\n",
    "    gen.train()\n",
    "    mean_generator_loss = 0\n",
    "    mean_discriminator_loss = 0\n",
    "    for image, _ in tqdm((iterator), ncols = 75, desc =\"Train\", total = len(iterator)):\n",
    "        b_size = len(image)\n",
    "        real = image.view(b_size, -1).to(device)\n",
    "        #train disc\n",
    "        disc_optimizer.zero_grad()\n",
    "        disc_loss = critic_loss(gen, disc, criterion, real, b_size, z_dim, device)\n",
    "        disc_loss.backward()\n",
    "        disc_optimizer.step()\n",
    "        mean_discriminator_loss += disc_loss\n",
    "        \n",
    "        #generator\n",
    "        gen_optimizer.zero_grad()\n",
    "        gen_loss_1 = gen_loss(gen, disc, criterion, b_size, z_dim, device)\n",
    "        gen_loss_1.backward()\n",
    "        gen_optimizer.step()\n",
    "        mean_generator_loss += gen_loss_1\n",
    "    return mean_discriminator_loss/(len(iterator)), mean_generator_loss/(len(iterator))"
   ]
  },
  {
   "cell_type": "code",
   "execution_count": 32,
   "id": "f8af8f1d",
   "metadata": {},
   "outputs": [],
   "source": [
    "def generate_image(gan, num_images, z_dims, device = \"cpu\"):\n",
    "    gen.eval()\n",
    "    with torch.no_grad():\n",
    "        noise = get_noise(num_images, z_dims, device)\n",
    "        images = gan(noise)\n",
    "    return images\n",
    "\n",
    "def plot(images):\n",
    "    image_datas = images.cpu()\n",
    "    plt.ion()\n",
    "    plt.figure()\n",
    "    f, axarr = plt.subplots(2,2)\n",
    "    axarr[0,0].imshow(image_datas[0].view(-1,28))\n",
    "    axarr[0,1].imshow(image_datas[1].view(-1,28))\n",
    "    axarr[1,0].imshow(image_datas[2].view(-1,28))\n",
    "    axarr[1,1].imshow(image_datas[3].view(-1,28))\n",
    "    plt.show()"
   ]
  },
  {
   "cell_type": "code",
   "execution_count": null,
   "id": "44c9f365",
   "metadata": {},
   "outputs": [
    {
     "name": "stdout",
     "output_type": "stream",
     "text": [
      "Epoch [0 / 100]\n",
      "printing test images-->\n"
     ]
    },
    {
     "data": {
      "text/plain": [
       "<Figure size 432x288 with 0 Axes>"
      ]
     },
     "metadata": {},
     "output_type": "display_data"
    },
    {
     "data": {
      "image/png": "[encoded data removed]",
      "text/plain": [
       "<Figure size 432x288 with 4 Axes>"
      ]
     },
     "metadata": {
      "needs_background": "light"
     },
     "output_type": "display_data"
    },
    {
     "name": "stdout",
     "output_type": "stream",
     "text": [
      "----------------------------\n"
     ]
    },
    {
     "name": "stderr",
     "output_type": "stream",
     "text": [
      "Train:  11%|██▉                         | 200/1875 [00:11<01:39, 16.87it/s]"
     ]
    }
   ],
   "source": [
    "for epoch in range(n_epochs):\n",
    "    print(f\"Epoch [{epoch} / {n_epochs}]\")\n",
    "    \n",
    "    print(\"printing test images-->\")\n",
    "    images = generate_image(gen, 4, z_dim, \"cuda\")\n",
    "    plot(images)\n",
    "    print(\"----------------------------\")\n",
    "    mean_discriminator_loss, mean_generator_loss = Train(gen, disc, dataset, crit_opt, \n",
    "                                                         gen_opt, criterion)\n",
    "    print(\"discrimnator loss \", mean_discriminator_loss)\n",
    "    print(\"generator loss \", mean_generator_loss)"
   ]
  },
  {
   "cell_type": "code",
   "execution_count": null,
   "id": "67b474a5",
   "metadata": {},
   "outputs": [],
   "source": []
  },
  {
   "cell_type": "code",
   "execution_count": 130,
   "id": "7dc38daa",
   "metadata": {},
   "outputs": [
    {
     "data": {
      "text/plain": [
       "torch.Size([4, 784])"
      ]
     },
     "execution_count": 130,
     "metadata": {},
     "output_type": "execute_result"
    }
   ],
   "source": [
    "test = generate_image(gen, 4, z_dim, \"cuda\")\n",
    "test.shape"
   ]
  },
  {
   "cell_type": "code",
   "execution_count": 138,
   "id": "cf63a267",
   "metadata": {},
   "outputs": [
    {
     "data": {
      "text/plain": [
       "<Figure size 432x288 with 0 Axes>"
      ]
     },
     "metadata": {},
     "output_type": "display_data"
    },
    {
     "data": {
      "image/png": "[encoded data removed]",
      "text/plain": [
       "<Figure size 432x288 with 4 Axes>"
      ]
     },
     "metadata": {
      "needs_background": "light"
     },
     "output_type": "display_data"
    },
    {
     "name": "stdout",
     "output_type": "stream",
     "text": [
      "0\n"
     ]
    },
    {
     "data": {
      "text/plain": [
       "<Figure size 432x288 with 0 Axes>"
      ]
     },
     "metadata": {},
     "output_type": "display_data"
    },
    {
     "data": {
      "image/png": "[encoded data removed]",
      "text/plain": [
       "<Figure size 432x288 with 4 Axes>"
      ]
     },
     "metadata": {
      "needs_background": "light"
     },
     "output_type": "display_data"
    },
    {
     "name": "stdout",
     "output_type": "stream",
     "text": [
      "1\n"
     ]
    }
   ],
   "source": [
    "for i in range(2):\n",
    "    plot(test)\n",
    "    print(i)\n",
    " "
   ]
  },
  {
   "cell_type": "code",
   "execution_count": null,
   "id": "c54a66c9",
   "metadata": {},
   "outputs": [],
   "source": []
  },
  {
   "cell_type": "code",
   "execution_count": 47,
   "id": "1dda244c",
   "metadata": {},
   "outputs": [
    {
     "data": {
      "text/plain": [
       "torch.Size([8, 784])"
      ]
     },
     "execution_count": 47,
     "metadata": {},
     "output_type": "execute_result"
    }
   ],
   "source": [
    "m.shape[]"
   ]
  },
  {
   "cell_type": "code",
   "execution_count": 51,
   "id": "bf8057d0",
   "metadata": {},
   "outputs": [
    {
     "data": {
      "text/plain": [
       "torch.Size([8, 64])"
      ]
     },
     "execution_count": 51,
     "metadata": {},
     "output_type": "execute_result"
    }
   ],
   "source": [
    "get_noise(8, 64).shape"
   ]
  },
  {
   "cell_type": "code",
   "execution_count": null,
   "id": "4d8da521",
   "metadata": {},
   "outputs": [],
   "source": [
    "gen()"
   ]
  }
 ],
 "metadata": {
  "kernelspec": {
   "display_name": "torch",
   "language": "python",
   "name": "torch"
  },
  "language_info": {
   "codemirror_mode": {
    "name": "ipython",
    "version": 3
   },
   "file_extension": ".py",
   "mimetype": "text/x-python",
   "name": "python",
   "nbconvert_exporter": "python",
   "pygments_lexer": "ipython3",
   "version": "3.10.4"
  }
 },
 "nbformat": 4,
 "nbformat_minor": 5
}
